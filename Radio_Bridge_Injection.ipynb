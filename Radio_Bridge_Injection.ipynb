{
 "cells": [
  {
   "cell_type": "markdown",
   "id": "0cf377b0",
   "metadata": {},
   "source": [
    "# Radio Bridge Injection and Analysis\n",
    "\n",
    "This repository contains a Python-based workflow for simulating and analyzing **radio bridge emission**.  \n",
    "The analysis demonstrates how to:\n",
    "\n",
    "- Work with **FITS files** using `astropy`\n",
    "- Inject visibilities into model images\n",
    "- Create mosaics from restored images with varying spectral index\n",
    "- Apply masks to isolate **radio bridge regions**\n",
    "- Compute flux density ratios:\n",
    "  $$\n",
    "  R(\\alpha) = \\frac{S^{injected}_{400}}{S_{400}}\n",
    "  $$"
   ]
  },
  {
   "cell_type": "markdown",
   "id": "6bf5cd51",
   "metadata": {},
   "source": [
    "## Step 1: Load and Preprocess FITS Data"
   ]
  },
  {
   "cell_type": "code",
   "execution_count": 1,
   "id": "4d3896d3",
   "metadata": {},
   "outputs": [],
   "source": [
    "import numpy as np\n",
    "import matplotlib.pyplot as plt\n",
    "from astropy.io import fits\n",
    "from astropy.wcs import wcs\n",
    "import pyregion\n",
    "import FITS_tools"
   ]
  },
  {
   "cell_type": "code",
   "execution_count": 2,
   "id": "363f06b7",
   "metadata": {},
   "outputs": [],
   "source": [
    "r_box=pyregion.open('box_mask.reg')\n",
    "r_s=pyregion.open('halos_mask.reg')\n"
   ]
  },
  {
   "cell_type": "code",
   "execution_count": 3,
   "id": "21cc2992",
   "metadata": {},
   "outputs": [],
   "source": [
    "#f=fits.open('final_subtracted_70_shifted-MFS-model-pb_copy.fits')[0]\n",
    "f=fits.open('injection_models_shifted_2/final_subtracted_70_shifted-MFS-model-pb.fits')[0]\n",
    "\n",
    "# drops the size-1 axes\n",
    "data=f.data.squeeze()\n",
    "header=f.header\n",
    "new_header = FITS_tools.strip_headers.flatten_header(header)\n",
    "new_fh = fits.PrimaryHDU(data=data, header=new_header)\n",
    "new_fh.writeto('injection_models_shifted_2/final_subtracted_70_shifted-MFS-model-pb.fits', overwrite=True)\n"
   ]
  },
  {
   "cell_type": "code",
   "execution_count": 4,
   "id": "638ceffe",
   "metadata": {},
   "outputs": [],
   "source": [
    "f=fits.open('injection_models_shifted_2/final_subtracted_70_shifted-MFS-model-pb.fits')[0]\n",
    "data=f.data"
   ]
  },
  {
   "cell_type": "code",
   "execution_count": 5,
   "id": "e1cb06e3",
   "metadata": {},
   "outputs": [
    {
     "name": "stderr",
     "output_type": "stream",
     "text": [
      "WARNING: FITSFixedWarning: 'datfix' made the change 'Set MJD-OBS to 58928.500185 from DATE-OBS'. [astropy.wcs.wcs]\n",
      "WARNING: FITSFixedWarning: 'datfix' made the change 'Set MJD-OBS to 58928.500185 from DATE-OBS'. [astropy.wcs.wcs]\n",
      "WARNING: FITSFixedWarning: 'datfix' made the change 'Set MJD-OBS to 58928.500185 from DATE-OBS'. [astropy.wcs.wcs]\n",
      "WARNING: FITSFixedWarning: 'datfix' made the change 'Set MJD-OBS to 58928.500185 from DATE-OBS'. [astropy.wcs.wcs]\n",
      "WARNING: FITSFixedWarning: 'datfix' made the change 'Set MJD-OBS to 58928.500185 from DATE-OBS'. [astropy.wcs.wcs]\n",
      "WARNING: FITSFixedWarning: 'datfix' made the change 'Set MJD-OBS to 58928.500185 from DATE-OBS'. [astropy.wcs.wcs]\n",
      "WARNING: FITSFixedWarning: 'datfix' made the change 'Set MJD-OBS to 58928.500185 from DATE-OBS'. [astropy.wcs.wcs]\n",
      "WARNING: FITSFixedWarning: 'datfix' made the change 'Set MJD-OBS to 58928.500185 from DATE-OBS'. [astropy.wcs.wcs]\n",
      "WARNING: FITSFixedWarning: 'datfix' made the change 'Set MJD-OBS to 58928.500185 from DATE-OBS'. [astropy.wcs.wcs]\n",
      "WARNING: FITSFixedWarning: 'datfix' made the change 'Set MJD-OBS to 58928.500185 from DATE-OBS'. [astropy.wcs.wcs]\n",
      "WARNING: FITSFixedWarning: 'datfix' made the change 'Set MJD-OBS to 58928.500185 from DATE-OBS'. [astropy.wcs.wcs]\n",
      "WARNING: FITSFixedWarning: 'datfix' made the change 'Set MJD-OBS to 58928.500185 from DATE-OBS'. [astropy.wcs.wcs]\n"
     ]
    }
   ],
   "source": [
    "rb=r_box.as_imagecoord(f.header)\n",
    "rs=r_s.as_imagecoord(f.header)"
   ]
  },
  {
   "cell_type": "code",
   "execution_count": 6,
   "id": "7db742d0",
   "metadata": {},
   "outputs": [],
   "source": [
    "mask_box =rb.get_mask(shape=(1500, 1500))\n",
    "mask_s=np.invert(rs.get_mask(shape=(1500,1500)))"
   ]
  },
  {
   "cell_type": "code",
   "execution_count": 7,
   "id": "14d12ace",
   "metadata": {},
   "outputs": [
    {
     "data": {
      "image/png": "[encoded data removed]",
      "text/plain": [
       "<Figure size 432x288 with 2 Axes>"
      ]
     },
     "metadata": {
      "needs_background": "light"
     },
     "output_type": "display_data"
    }
   ],
   "source": [
    "mask_tot=np.multiply(mask_box, mask_s)\n",
    "mask_tot=mask_tot.astype('float32')\n",
    "plt.subplot(121).imshow(mask_box, origin=\"lower\", interpolation=\"nearest\")\n",
    "plt.subplot(122).imshow(mask_tot, origin=\"lower\", interpolation=\"nearest\")\n",
    "plt.show()"
   ]
  },
  {
   "cell_type": "code",
   "execution_count": 8,
   "id": "5dc26a01",
   "metadata": {},
   "outputs": [],
   "source": [
    "hdu_mask=fits.open('injection_models_shifted_2/final_subtracted_70_shifted-MFS-model-pb.fits')[0]\n",
    "\n",
    "hdu_mask.data=mask_tot\n",
    "hdu_mask.writeto('injection_models_shifted_2/mask.fits', overwrite=True)"
   ]
  },
  {
   "cell_type": "code",
   "execution_count": 9,
   "id": "44ad1cd3",
   "metadata": {},
   "outputs": [],
   "source": [
    "hdu_model=fits.open('injection_models_shifted_2/final_subtracted_70_shifted-MFS-model-pb.fits')[0]\n",
    "\n",
    "header=hdu_model.header\n",
    "hdu_model_data=np.multiply(hdu_model.data, mask_tot)\n",
    "\n",
    "#header=fm.header\n",
    "\n",
    "new_fh = fits.PrimaryHDU(data=hdu_model_data, header=header)\n",
    "new_fh.writeto('injection_models_shifted_2/model_bridge.fits', overwrite=True)\n",
    "\n"
   ]
  },
  {
   "cell_type": "markdown",
   "id": "d54cbf41",
   "metadata": {},
   "source": [
    "## Step 2: Visibility Injection into Model Images\n"
   ]
  },
  {
   "cell_type": "code",
   "execution_count": 10,
   "id": "53015773",
   "metadata": {},
   "outputs": [],
   "source": [
    "freqs=[316,348,385,416,449,481]\n",
    "\n",
    "hdu_model=fits.open('injection_models_shifted_2/model_bridge.fits')[0]\n",
    "\n",
    "data_mod=hdu_model.data\n",
    "\n",
    "for freq in freqs:\n",
    "    for alpha in np.arange(0,4.25,0.25):\n",
    "        data_i=data_mod*(freq/60)**(-alpha)\n",
    "        hdu_model.data=data_i\n",
    "        hdu_model.writeto(f'/injection/injection_models_shifted_2/model_bridge_{freq}_alpha{alpha}.fits', overwrite=True)\n",
    "        \n",
    "        \n",
    "        "
   ]
  },
  {
   "cell_type": "code",
   "execution_count": 11,
   "id": "47379c2d",
   "metadata": {},
   "outputs": [
    {
     "name": "stderr",
     "output_type": "stream",
     "text": [
      "WARNING: FITSFixedWarning: 'datfix' made the change 'Set MJD-OBS to 58928.500185 from DATE-OBS'. [astropy.wcs.wcs]\n"
     ]
    },
    {
     "data": {
      "text/plain": [
       "(46.381504641085314, 14.694282347478827)"
      ]
     },
     "execution_count": 11,
     "metadata": {},
     "output_type": "execute_result"
    }
   ],
   "source": [
    "#First pixel (top left) coordinates\n",
    "\n",
    "w=wcs.WCS(f)\n",
    "ra,dec=w.all_pix2world([1,1], [1500,1], 1)\n",
    "xpix=ra[0]\n",
    "ypix=dec[0]\n",
    "\n",
    "xpix, ypix"
   ]
  },
  {
   "cell_type": "code",
   "execution_count": 12,
   "id": "9c42adcb",
   "metadata": {},
   "outputs": [],
   "source": [
    "x_a399=np.zeros_like(data)\n",
    "x_a401=np.zeros_like(data)\n",
    "\n",
    "#pixelsize=6arcsec\n",
    "\n",
    "#Distances x in arcmin from pointing center to pixel i,j:\n",
    "for i in range(0,1500):\n",
    "    for j in range(0,1500):\n",
    "        x_a399[i,j]=60*np.sqrt((44.5000558-(xpix - 0.000833333*(2*i+1)))**2 + (13.1666828-(ypix - 0.000833333*(2*j+1)))**2)\n",
    "        x_a401[i,j]=60*np.sqrt((44.679224-(xpix - 0.000833333*(2*i+1)))**2 + (13.4083497-(ypix - 0.000833333*(2*j+1)))**2)\n"
   ]
  },
  {
   "cell_type": "code",
   "execution_count": 4,
   "id": "c15825a8",
   "metadata": {},
   "outputs": [],
   "source": [
    "#Beam uGMRT\n",
    "def pb_ugmrt(x,a,b,c,d):\n",
    "    return (1+(a/10**3)*x**2+(b/10**7)*x**4+(c/10**10)*x**6+(d/10**13)*x**8)\n",
    "\n",
    "#band3 coefficients\n",
    "a=-2.939\n",
    "b=33.312\n",
    "c=-16.659\n",
    "d=3.066"
   ]
  },
  {
   "cell_type": "code",
   "execution_count": 14,
   "id": "379f64e4",
   "metadata": {},
   "outputs": [],
   "source": [
    "from astropy.wcs import WCS\n",
    "\n",
    "for freq in freqs:\n",
    "    for alpha in np.arange(0,4.25,0.25):\n",
    "\n",
    "        fm=fits.open(f'/injection/injection_models_shifted_2/model_bridge_{freq}_alpha{alpha}.fits')[0]\n",
    "        datam=fm.data\n",
    "    \n",
    "        pb_cl1=pb_ugmrt(0.001*freq*np.flip(x_cl1,0), a,b,c,d)\n",
    "        pb_cl2=pb_ugmrt(0.001*freq*np.flip(x_cl2,0), a,b,c,d)\n",
    "                \n",
    "        model_cl1=fits.open('injection_models_shifted_2/final_subtracted_70_shifted-MFS-model-pb.fits')[0]\n",
    "        model_cl1.data=np.multiply(pb_cl1,datam)\n",
    "        \n",
    "        \n",
    "        model_cl1.writeto(f'/injection/injection_models_shifted_2/shifted_cl1/cl1_sub{freq}_alpha{alpha}-model.fits', overwrite=True)\n",
    "    \n",
    "        model_cl2=fits.open('injection_models_shifted_2/final_subtracted_70_shifted-MFS-model-pb.fits')[0]\n",
    "        model_cl2.data=np.multiply(pb_cl2,datam)\n",
    "        model_cl2.writeto(f'/injection/injection_models_shifted_2/shifted_cl2/cl2_sub{freq}_alpha{alpha}-model.fits', overwrite=True)\n",
    "    "
   ]
  },
  {
   "cell_type": "markdown",
   "id": "99eef03b",
   "metadata": {},
   "source": [
    "## Step 3: Mosaicking Restored Images with Different Spectral Index\n"
   ]
  },
  {
   "cell_type": "markdown",
   "id": "977515db",
   "metadata": {},
   "source": [
    "First, drop the two degenerate axis in .fits file (freq and stokes) "
   ]
  },
  {
   "cell_type": "code",
   "execution_count": 2,
   "id": "ef9d136b",
   "metadata": {},
   "outputs": [],
   "source": [
    "freqs=[316,348,385,416,449,481]\n",
    "\n",
    "for alpha in np.arange(0,4.25,0.25):\n",
    "    fh_cl1 = fits.open(f'/Volumes/T7/Dottorato/cl1-cl2/LOFAR/injection/cl1_inj/shift_cl1_2/cl1_injection_60mhz_alpha{alpha}-MFS-image.fits')\n",
    "    fh_cl2 = fits.open(f'/Volumes/T7/Dottorato/cl1-cl2/LOFAR/injection/cl2_inj/shift_cl2_2/cl2_injection_60mhz_alpha{alpha}-MFS-image.fits')\n",
    "    \n",
    "    data_cl1 = fh_cl1[0].data.squeeze() # drops the size-1 axes\n",
    "    data_cl2 = fh_cl2[0].data.squeeze() # drops the size-1 axes\n",
    "\n",
    "    header1 = fh_cl1[0].header\n",
    "    header2 = fh_cl2[0].header\n",
    "\n",
    "    new_header1 = FITS_tools.strip_headers.flatten_header(header1)\n",
    "    new_header2 = FITS_tools.strip_headers.flatten_header(header2)\n",
    "\n",
    "    new_fh1 = fits.PrimaryHDU(data=data_cl1, header=new_header1)\n",
    "    new_fh1.writeto(f'/Volumes/T7/Dottorato/cl1-cl2/LOFAR/injection/cl1_inj/shift_cl1_2/cl1_injection_60mhz_alpha{alpha}-MFS-image.fits', overwrite=True)\n",
    "    \n",
    "    new_fh2 = fits.PrimaryHDU(data=data_cl2, header=new_header2)\n",
    "    new_fh2.writeto(f'/Volumes/T7/Dottorato/cl1-cl2/LOFAR/injection/cl2_inj/shift_cl2_2/cl2_injection_60mhz_alpha{alpha}-MFS-image.fits', overwrite=True)"
   ]
  },
  {
   "cell_type": "markdown",
   "id": "5955c467",
   "metadata": {},
   "source": [
    "Now set-up to mosaic inside for loop"
   ]
  },
  {
   "cell_type": "code",
   "execution_count": 5,
   "id": "96589848",
   "metadata": {},
   "outputs": [],
   "source": [
    "for alpha in np.arange(0,4.25,0.25):\n",
    "    #Open fits file (NAXIS=2), shape=437x437, pixelsize=16\"\n",
    "    fh_cl1 = fits.open(f'/Volumes/T7/Dottorato/cl1-cl2/LOFAR/injection/cl1_inj/shift_cl1_2/cl1_injection_60mhz_alpha{alpha}-MFS-image.fits')[0]\n",
    "    fh_cl2 = fits.open(f'/Volumes/T7/Dottorato/cl1-cl2/LOFAR/injection/cl2_inj/shift_cl2_2/cl2_injection_60mhz_alpha{alpha}-MFS-image.fits')[0]\n",
    "        \n",
    "    data_cl1 = fh_cl1.data\n",
    "    data_cl2 = fh_cl2.data\n",
    "    \n",
    "    header_cl1 = fh_cl1.header\n",
    "    \n",
    "    #Locate first N-W pixel\n",
    "    w=wcs.WCS(fh_cl1)\n",
    "    ra,dec=w.all_pix2world([1,1], [438,1], 1)\n",
    "    xpix=ra[0]\n",
    "    ypix=dec[0]\n",
    "    \n",
    "    #print(xpix,ypix)\n",
    "    #Initialize two empty matrixs and fill them with distances from pointing center\n",
    "    x_cl1=np.zeros_like(data_cl1)\n",
    "    x_cl2=np.zeros_like(data_cl2)\n",
    "\n",
    "    for i in range(0,438):\n",
    "        for j in range(0,438):\n",
    "            x_cl1[i,j]=60*np.sqrt((44.5000558-(xpix - 0.00222222*(2*i+1)))**2 + (13.1666828-(ypix - 0.00222222*(2*j+1)))**2)\n",
    "            x_cl2[i,j]=60*np.sqrt((44.679224-(xpix - 0.00222222*(2*i+1)))**2 + (13.4083497-(ypix - 0.00222222*(2*j+1)))**2)\n",
    "\n",
    "    #Compute uGMRT primary-beam correction\n",
    "    w_cl1=pb_ugmrt(0.4*np.flip(x_cl1,0), a,b,c,d)\n",
    "    w_cl2=pb_ugmrt(0.4*np.flip(x_cl2,0), a,b,c,d)\n",
    "    \n",
    "    data_mosaic=np.divide(np.multiply(data_cl1,w_cl1)+np.multiply(data_cl2,w_cl2),(w_cl1**2+w_cl2**2))\n",
    "   \n",
    "    mosaic = fits.PrimaryHDU(data=data_mosaic, header=header_cl1)\n",
    "    mosaic.writeto(f'/Volumes/T7/Dottorato/cl1-cl2/LOFAR/injection/mosaic_inj/shifted_mosaic_2/mosaic_injection_60mhz_specindex{alpha}.fits', overwrite=True)"
   ]
  },
  {
   "cell_type": "markdown",
   "id": "0a3ffc46",
   "metadata": {},
   "source": [
    "Now mask only bridge area and compute the ratio of flux density with injected visibilities and without R($\\alpha$)=$\\frac{S^{injected}_{400}}{S_{400}}$"
   ]
  },
  {
   "cell_type": "code",
   "execution_count": 25,
   "id": "253fb35d",
   "metadata": {},
   "outputs": [
    {
     "name": "stderr",
     "output_type": "stream",
     "text": [
      "WARNING: FITSFixedWarning: 'datfix' made the change 'Set MJD-OBS to 58721.779784 from DATE-OBS'. [astropy.wcs.wcs]\n",
      "WARNING: FITSFixedWarning: 'datfix' made the change 'Set MJD-OBS to 58721.779784 from DATE-OBS'. [astropy.wcs.wcs]\n",
      "WARNING: FITSFixedWarning: 'datfix' made the change 'Set MJD-OBS to 58721.779784 from DATE-OBS'. [astropy.wcs.wcs]\n",
      "WARNING: FITSFixedWarning: 'datfix' made the change 'Set MJD-OBS to 58721.779784 from DATE-OBS'. [astropy.wcs.wcs]\n",
      "WARNING: FITSFixedWarning: 'datfix' made the change 'Set MJD-OBS to 58721.779784 from DATE-OBS'. [astropy.wcs.wcs]\n",
      "WARNING: FITSFixedWarning: 'datfix' made the change 'Set MJD-OBS to 58721.779784 from DATE-OBS'. [astropy.wcs.wcs]\n",
      "WARNING: FITSFixedWarning: 'datfix' made the change 'Set MJD-OBS to 58721.779784 from DATE-OBS'. [astropy.wcs.wcs]\n",
      "WARNING: FITSFixedWarning: 'datfix' made the change 'Set MJD-OBS to 58721.779784 from DATE-OBS'. [astropy.wcs.wcs]\n",
      "WARNING: FITSFixedWarning: 'datfix' made the change 'Set MJD-OBS to 58721.779784 from DATE-OBS'. [astropy.wcs.wcs]\n",
      "WARNING: FITSFixedWarning: 'datfix' made the change 'Set MJD-OBS to 58721.779784 from DATE-OBS'. [astropy.wcs.wcs]\n",
      "WARNING: FITSFixedWarning: 'datfix' made the change 'Set MJD-OBS to 58721.779784 from DATE-OBS'. [astropy.wcs.wcs]\n",
      "WARNING: FITSFixedWarning: 'datfix' made the change 'Set MJD-OBS to 58721.779784 from DATE-OBS'. [astropy.wcs.wcs]\n",
      "WARNING: FITSFixedWarning: 'datfix' made the change 'Set MJD-OBS to 58721.779784 from DATE-OBS'. [astropy.wcs.wcs]\n",
      "WARNING: FITSFixedWarning: 'datfix' made the change 'Set MJD-OBS to 58721.779784 from DATE-OBS'. [astropy.wcs.wcs]\n",
      "WARNING: FITSFixedWarning: 'datfix' made the change 'Set MJD-OBS to 58721.779784 from DATE-OBS'. [astropy.wcs.wcs]\n",
      "WARNING: FITSFixedWarning: 'datfix' made the change 'Set MJD-OBS to 58721.779784 from DATE-OBS'. [astropy.wcs.wcs]\n",
      "WARNING: FITSFixedWarning: 'datfix' made the change 'Set MJD-OBS to 58721.779784 from DATE-OBS'. [astropy.wcs.wcs]\n",
      "WARNING: FITSFixedWarning: 'datfix' made the change 'Set MJD-OBS to 58721.779784 from DATE-OBS'. [astropy.wcs.wcs]\n",
      "WARNING: FITSFixedWarning: 'datfix' made the change 'Set MJD-OBS to 58721.779784 from DATE-OBS'. [astropy.wcs.wcs]\n",
      "WARNING: FITSFixedWarning: 'datfix' made the change 'Set MJD-OBS to 58721.779784 from DATE-OBS'. [astropy.wcs.wcs]\n",
      "WARNING: FITSFixedWarning: 'datfix' made the change 'Set MJD-OBS to 58721.779784 from DATE-OBS'. [astropy.wcs.wcs]\n",
      "WARNING: FITSFixedWarning: 'datfix' made the change 'Set MJD-OBS to 58721.779784 from DATE-OBS'. [astropy.wcs.wcs]\n",
      "WARNING: FITSFixedWarning: 'datfix' made the change 'Set MJD-OBS to 58721.779784 from DATE-OBS'. [astropy.wcs.wcs]\n",
      "WARNING: FITSFixedWarning: 'datfix' made the change 'Set MJD-OBS to 58721.779784 from DATE-OBS'. [astropy.wcs.wcs]\n",
      "WARNING: FITSFixedWarning: 'datfix' made the change 'Set MJD-OBS to 58721.779784 from DATE-OBS'. [astropy.wcs.wcs]\n",
      "WARNING: FITSFixedWarning: 'datfix' made the change 'Set MJD-OBS to 58721.779784 from DATE-OBS'. [astropy.wcs.wcs]\n",
      "WARNING: FITSFixedWarning: 'datfix' made the change 'Set MJD-OBS to 58721.779784 from DATE-OBS'. [astropy.wcs.wcs]\n",
      "WARNING: FITSFixedWarning: 'datfix' made the change 'Set MJD-OBS to 58721.779784 from DATE-OBS'. [astropy.wcs.wcs]\n",
      "WARNING: FITSFixedWarning: 'datfix' made the change 'Set MJD-OBS to 58721.779784 from DATE-OBS'. [astropy.wcs.wcs]\n",
      "WARNING: FITSFixedWarning: 'datfix' made the change 'Set MJD-OBS to 58721.779784 from DATE-OBS'. [astropy.wcs.wcs]\n",
      "WARNING: FITSFixedWarning: 'datfix' made the change 'Set MJD-OBS to 58721.779784 from DATE-OBS'. [astropy.wcs.wcs]\n",
      "WARNING: FITSFixedWarning: 'datfix' made the change 'Set MJD-OBS to 58721.779784 from DATE-OBS'. [astropy.wcs.wcs]\n"
     ]
    }
   ],
   "source": [
    "f=fits.open('mosaic_inj/shifted_mosaic_2/mosaic_injection_60mhz_specindex0.0.fits')[0]\n",
    "r_bridge=pyregion.open('box_mask_3.reg')\n",
    "r_s=pyregion.open('halos_mask_3.reg')\n",
    "\n",
    "rb=r_bridge.as_imagecoord(f.header)\n",
    "rs=r_s.as_imagecoord(f.header)\n",
    "\n",
    "mask_b1=rb.get_mask(shape=(438, 438))\n",
    "mask_s=np.invert(rs.get_mask(shape=(438,438)))\n",
    "\n",
    "mask_tot1=np.multiply(mask_b1,mask_s)\n",
    "mask_tot1=mask_tot1.astype('float32')\n",
    "\n",
    "hdu_mask=fits.open('mosaic_inj/shifted_mosaic_2/mosaic_injection_60mhz_specindex0.0.fits')[0]\n",
    "hdu_mask.data=mask_tot1\n",
    "hdu_mask.writeto('/Volumes/T7/Dottorato/cl1-cl2/LOFAR/injection/injection_models_shifted_2/mask_R_438.fits', overwrite=True)"
   ]
  },
  {
   "cell_type": "code",
   "execution_count": 27,
   "id": "983b4df3",
   "metadata": {
    "scrolled": false
   },
   "outputs": [
    {
     "name": "stdout",
     "output_type": "stream",
     "text": [
      "14.801495 0.21706316 0.0\n",
      "8.567381 0.21706316 0.25\n",
      "4.9452243 0.21706316 0.5\n",
      "2.670508 0.21706316 0.75\n",
      "1.2126746 0.21706316 1.0\n",
      "0.69532293 0.21706316 1.25\n",
      "0.5187326 0.21706316 1.5\n",
      "0.34346208 0.21706316 1.75\n",
      "0.22001739 0.21706316 2.0\n",
      "0.23542278 0.21706316 2.25\n",
      "0.18780215 0.21706316 2.5\n",
      "0.118000396 0.21706316 2.75\n",
      "0.1026204 0.21706316 3.0\n",
      "0.06642433 0.21706316 3.25\n",
      "0.06463401 0.21706316 3.5\n",
      "0.04575209 0.21706316 3.75\n",
      "0.044459224 0.21706316 4.0\n",
      "[68.189804, 39.469532, 22.782421, 12.302907, 5.586736, 3.2033207, 2.3897772, 1.582314, 1.01361, 1.0845819, 0.8651959, 0.5436224, 0.47276747, 0.30601385, 0.2977659, 0.21077777, 0.2048216]\n",
      "[0.4248428  0.6707498  0.8126911  0.8893419  0.9241489  0.9441066\n",
      " 0.9589956  0.9688539  0.975169   0.98192626 0.98731667 0.9907036\n",
      " 0.99364907 0.99555564 0.99741083 0.99872404 1.0000001 ]\n"
     ]
    },
    {
     "data": {
      "text/plain": [
       "<matplotlib.legend.Legend at 0x7fad49cbf970>"
      ]
     },
     "execution_count": 27,
     "metadata": {},
     "output_type": "execute_result"
    },
    {
     "data": {
      "image/png": "[encoded data removed]",
      "text/plain": [
       "<Figure size 648x288 with 1 Axes>"
      ]
     },
     "metadata": {
      "needs_background": "light"
     },
     "output_type": "display_data"
    }
   ],
   "source": [
    "R=[]\n",
    "for alpha in np.arange(0,4.25,0.25):\n",
    "    inj_mosaic = fits.open(f'/Volumes/T7/Dottorato/cl1-cl2/LOFAR/injection/mosaic_inj/shifted_mosaic_2/mosaic_injection_60mhz_specindex{alpha}.fits')[0]\n",
    "    data_injmosaic=inj_mosaic.data\n",
    "    data_in_mask_inj=np.multiply(data_injmosaic, mask_tot1)\n",
    "\n",
    "\n",
    "    mosaic=fits.open('/Users/giadapignataro/Desktop/aplpy/bridge/mosaic.fits')[0]\n",
    "    data_mosaic=mosaic.data\n",
    "    data_in_mask=np.multiply(data_mosaic, mask_tot2)\n",
    "    #R=np.sum(data_in_mask_inj)/(np.sum(data_in_mask))\n",
    "    print(np.sum(data_in_mask_inj), np.sum(data_in_mask), alpha)\n",
    "    R.append((np.sum(data_in_mask_inj))/(np.sum(data_in_mask)))\n",
    "print(R)\n",
    "    \n",
    "A=np.sum(R)\n",
    "#print(np.sum(R)/A)\n",
    "cumulative=np.cumsum(R/A)\n",
    "print(cumulative)\n",
    "norm=cumulative.max()\n",
    "#norm=np.sum(cumulative)*0.25\n",
    "alpha=np.arange(0,4.25,0.25)\n",
    "\n",
    "\n",
    "plt.rcParams[\"figure.figsize\"] = (9,4)\n",
    "\n",
    "plt.scatter(alpha, cumulative, s=35, marker='.', c='black', zorder=10)\n",
    "plt.plot(alpha, cumulative, c='black', linewidth=2)\n",
    "\n",
    "#plt.axhline(y=0.85, color='r', linestyle='-')\n",
    "plt.axhline(y=0.948, xmin=0, xmax=0.65, color='g', linestyle='--', linewidth=1, label='95% confidence \\n level')\n",
    "plt.axvline(x=2.25, ymin=0, ymax=0.9, color='dodgerblue', linestyle='--', linewidth=1, label=r'$\\tilde{\\alpha}=2.2$')\n",
    "plt.xlim(0,4)\n",
    "\n",
    "plt.xlabel(r'$\\tilde{\\alpha}$', size='large')\n",
    "plt.ylabel(r'P($\\alpha<\\tilde{\\alpha}$)', size='large')\n",
    "plt.legend(loc='lower right')\n",
    "#plt.savefig('/Users/giadapignataro/Desktop/paper_bridge/cumulative_cl1cl2_4.png', facecolor='white')\n",
    "\n",
    "\n"
   ]
  },
  {
   "cell_type": "code",
   "execution_count": 38,
   "id": "d99be36e",
   "metadata": {},
   "outputs": [
    {
     "name": "stderr",
     "output_type": "stream",
     "text": [
      "WARNING: FITSFixedWarning: 'datfix' made the change 'Set MJD-OBS to 58721.779784 from DATE-OBS'. [astropy.wcs.wcs]\n",
      "WARNING: FITSFixedWarning: 'datfix' made the change 'Set MJD-OBS to 58721.779784 from DATE-OBS'. [astropy.wcs.wcs]\n"
     ]
    },
    {
     "ename": "RegionFilterException",
     "evalue": "the inut needs to be a numpy 2-d array or a tuple of two integers",
     "output_type": "error",
     "traceback": [
      "\u001b[0;31m---------------------------------------------------------------------------\u001b[0m",
      "\u001b[0;31mRegionFilterException\u001b[0m                     Traceback (most recent call last)",
      "\u001b[0;32m/var/folders/01/x6kv544x2bj1rmhkxclrw85m0000gn/T/ipykernel_96150/598103553.py\u001b[0m in \u001b[0;36m<module>\u001b[0;34m\u001b[0m\n\u001b[1;32m      3\u001b[0m \u001b[0mr_box\u001b[0m\u001b[0;34m=\u001b[0m\u001b[0mpyregion\u001b[0m\u001b[0;34m.\u001b[0m\u001b[0mopen\u001b[0m\u001b[0;34m(\u001b[0m\u001b[0;34m'/Volumes/T7/Dottorato/A399-A401/LOFAR/injection/test.reg'\u001b[0m\u001b[0;34m)\u001b[0m\u001b[0;34m\u001b[0m\u001b[0;34m\u001b[0m\u001b[0m\n\u001b[1;32m      4\u001b[0m \u001b[0mrb\u001b[0m\u001b[0;34m=\u001b[0m\u001b[0mr_box\u001b[0m\u001b[0;34m.\u001b[0m\u001b[0mas_imagecoord\u001b[0m\u001b[0;34m(\u001b[0m\u001b[0minj_mosaic\u001b[0m\u001b[0;34m.\u001b[0m\u001b[0mheader\u001b[0m\u001b[0;34m)\u001b[0m\u001b[0;34m\u001b[0m\u001b[0;34m\u001b[0m\u001b[0m\n\u001b[0;32m----> 5\u001b[0;31m \u001b[0mmask\u001b[0m \u001b[0;34m=\u001b[0m \u001b[0mrb\u001b[0m\u001b[0;34m.\u001b[0m\u001b[0mget_mask\u001b[0m\u001b[0;34m(\u001b[0m\u001b[0;34m)\u001b[0m\u001b[0;34m.\u001b[0m\u001b[0mto_image\u001b[0m\u001b[0;34m(\u001b[0m\u001b[0minj_mosaic\u001b[0m\u001b[0;34m.\u001b[0m\u001b[0mheader\u001b[0m\u001b[0;34m)\u001b[0m\u001b[0;34m\u001b[0m\u001b[0;34m\u001b[0m\u001b[0m\n\u001b[0m\u001b[1;32m      6\u001b[0m \u001b[0mvalues_inside_region\u001b[0m \u001b[0;34m=\u001b[0m \u001b[0mdata\u001b[0m\u001b[0;34m[\u001b[0m\u001b[0mmask\u001b[0m \u001b[0;34m>\u001b[0m \u001b[0;36m0\u001b[0m\u001b[0;34m]\u001b[0m\u001b[0;34m\u001b[0m\u001b[0;34m\u001b[0m\u001b[0m\n\u001b[1;32m      7\u001b[0m \u001b[0msum_inside_region\u001b[0m \u001b[0;34m=\u001b[0m \u001b[0mvalues_inside_region\u001b[0m\u001b[0;34m.\u001b[0m\u001b[0msum\u001b[0m\u001b[0;34m(\u001b[0m\u001b[0;34m)\u001b[0m\u001b[0;34m\u001b[0m\u001b[0;34m\u001b[0m\u001b[0m\n",
      "\u001b[0;32m~/opt/anaconda3/lib/python3.9/site-packages/pyregion/core.py\u001b[0m in \u001b[0;36mget_mask\u001b[0;34m(self, hdu, header, shape)\u001b[0m\n\u001b[1;32m    154\u001b[0m \u001b[0;34m\u001b[0m\u001b[0m\n\u001b[1;32m    155\u001b[0m         \u001b[0mregion_filter\u001b[0m \u001b[0;34m=\u001b[0m \u001b[0mself\u001b[0m\u001b[0;34m.\u001b[0m\u001b[0mget_filter\u001b[0m\u001b[0;34m(\u001b[0m\u001b[0mheader\u001b[0m\u001b[0;34m=\u001b[0m\u001b[0mheader\u001b[0m\u001b[0;34m)\u001b[0m\u001b[0;34m\u001b[0m\u001b[0;34m\u001b[0m\u001b[0m\n\u001b[0;32m--> 156\u001b[0;31m         \u001b[0mmask\u001b[0m \u001b[0;34m=\u001b[0m \u001b[0mregion_filter\u001b[0m\u001b[0;34m.\u001b[0m\u001b[0mmask\u001b[0m\u001b[0;34m(\u001b[0m\u001b[0mshape\u001b[0m\u001b[0;34m)\u001b[0m\u001b[0;34m\u001b[0m\u001b[0;34m\u001b[0m\u001b[0m\n\u001b[0m\u001b[1;32m    157\u001b[0m \u001b[0;34m\u001b[0m\u001b[0m\n\u001b[1;32m    158\u001b[0m         \u001b[0;32mreturn\u001b[0m \u001b[0mmask\u001b[0m\u001b[0;34m\u001b[0m\u001b[0;34m\u001b[0m\u001b[0m\n",
      "\u001b[0;32mpyregion/_region_filter.pyx\u001b[0m in \u001b[0;36mpyregion._region_filter.RegionBase.mask\u001b[0;34m()\u001b[0m\n",
      "\u001b[0;31mRegionFilterException\u001b[0m: the inut needs to be a numpy 2-d array or a tuple of two integers"
     ]
    }
   ],
   "source": [
    "inj_mosaic = fits.open('/Volumes/T7/Dottorato/cl1-cl2/LOFAR/injection/mosaic_inj/mosaic_injection_60mhz_specindex3.75.fits', overwrite=True)[0]\n",
    "data_injmosaic=inj_mosaic.data\n",
    "r_box=pyregion.open('/Volumes/T7/Dottorato/cl1-cl2/LOFAR/injection/test.reg')\n",
    "rb=r_box.as_imagecoord(inj_mosaic.header)\n",
    "mask = rb.get_mask().to_image(inj_mosaic.header)\n",
    "values_inside_region = data[mask > 0]\n",
    "sum_inside_region = values_inside_region.sum()\n",
    "print(f'Sum of pixel values inside the region: {sum_inside_region}')"
   ]
  },
  {
   "cell_type": "markdown",
   "id": "a3102d0e",
   "metadata": {},
   "source": [
    "## Step 4: Masking Bridge Region\n"
   ]
  },
  {
   "cell_type": "code",
   "execution_count": 43,
   "id": "32c2be3d",
   "metadata": {},
   "outputs": [
    {
     "ename": "ImportError",
     "evalue": "cannot import name 'regions_to_mask' from 'astropy.nddata' (/Users/giadapignataro/opt/anaconda3/lib/python3.9/site-packages/astropy/nddata/__init__.py)",
     "output_type": "error",
     "traceback": [
      "\u001b[0;31m---------------------------------------------------------------------------\u001b[0m",
      "\u001b[0;31mImportError\u001b[0m                               Traceback (most recent call last)",
      "\u001b[0;32m/var/folders/01/x6kv544x2bj1rmhkxclrw85m0000gn/T/ipykernel_96150/2097330695.py\u001b[0m in \u001b[0;36m<module>\u001b[0;34m\u001b[0m\n\u001b[1;32m      1\u001b[0m \u001b[0;32mimport\u001b[0m \u001b[0mpyregion\u001b[0m\u001b[0;34m\u001b[0m\u001b[0;34m\u001b[0m\u001b[0m\n\u001b[1;32m      2\u001b[0m \u001b[0;32mfrom\u001b[0m \u001b[0mastropy\u001b[0m\u001b[0;34m.\u001b[0m\u001b[0mio\u001b[0m \u001b[0;32mimport\u001b[0m \u001b[0mfits\u001b[0m\u001b[0;34m\u001b[0m\u001b[0;34m\u001b[0m\u001b[0m\n\u001b[0;32m----> 3\u001b[0;31m \u001b[0;32mfrom\u001b[0m \u001b[0mastropy\u001b[0m\u001b[0;34m.\u001b[0m\u001b[0mnddata\u001b[0m \u001b[0;32mimport\u001b[0m \u001b[0mregions_to_mask\u001b[0m\u001b[0;34m\u001b[0m\u001b[0;34m\u001b[0m\u001b[0m\n\u001b[0m\u001b[1;32m      4\u001b[0m \u001b[0;32mimport\u001b[0m \u001b[0mnumpy\u001b[0m \u001b[0;32mas\u001b[0m \u001b[0mnp\u001b[0m\u001b[0;34m\u001b[0m\u001b[0;34m\u001b[0m\u001b[0m\n\u001b[1;32m      5\u001b[0m \u001b[0;34m\u001b[0m\u001b[0m\n",
      "\u001b[0;31mImportError\u001b[0m: cannot import name 'regions_to_mask' from 'astropy.nddata' (/Users/giadapignataro/opt/anaconda3/lib/python3.9/site-packages/astropy/nddata/__init__.py)"
     ]
    }
   ],
   "source": [
    "import pyregion\n",
    "from astropy.io import fits\n",
    "from astropy.nddata import regions_to_mask\n",
    "import numpy as np\n",
    "\n",
    "# Read DS9 region file\n",
    "region_file = '/Volumes/T7/Dottorato/A399-A401/LOFAR/injection/test.reg'\n",
    "regions = pyregion.open(region_file)\n",
    "\n",
    "# Read FITS file\n",
    "fits_file = '/Volumes/T7/Dottorato/A399-A401/LOFAR/injection/mosaic_inj/mosaic_injection_60mhz_specindex3.75.fits'\n",
    "hdu = fits.open(fits_file)[0]\n",
    "data = hdu.data\n",
    "\n",
    "# Create an empty mask\n",
    "mask = regions_to_mask(regions, data.shape)\n",
    "\n",
    "# Apply the mask to the data\n",
    "values_inside_region = data[mask]\n",
    "\n",
    "# Perform operations on values_inside_region\n",
    "sum_inside_region = values_inside_region.sum()\n",
    "\n",
    "print(f'Sum of pixel values inside the region: {sum_inside_region}')\n"
   ]
  },
  {
   "cell_type": "code",
   "execution_count": 36,
   "id": "f7f8a0b9",
   "metadata": {},
   "outputs": [
    {
     "data": {
      "text/plain": [
       "Text(0, 0.5, 'Normalized R')"
      ]
     },
     "execution_count": 36,
     "metadata": {},
     "output_type": "execute_result"
    },
    {
     "data": {
      "image/png": "[encoded data removed]",
      "text/plain": [
       "<Figure size 432x576 with 2 Axes>"
      ]
     },
     "metadata": {
      "needs_background": "light"
     },
     "output_type": "display_data"
    }
   ],
   "source": [
    "fig, axs = plt.subplots(2, figsize=(6,8))\n",
    "axs[0].scatter(alpha, cumulative, s=20, marker='.', c='black', zorder=10)\n",
    "axs[0].axhline(y=0.95, color='g', linestyle='-', linewidth=0.8)\n",
    "axs[0].axvline(x=1.9, color='pink', linestyle='-')\n",
    "\n",
    "axs[0].set_xlabel(r'$\\alpha$')\n",
    "axs[0].set_ylabel(r'P(<$\\alpha$)')\n",
    "axs[1].scatter(alpha, R, s=20, marker='.', c='black', zorder=10)\n",
    "axs[1].set_xlabel(r'$\\alpha$')\n",
    "axs[1].set_ylabel(r'Normalized R')\n"
   ]
  },
  {
   "cell_type": "code",
   "execution_count": 13,
   "id": "754d458f",
   "metadata": {},
   "outputs": [],
   "source": [
    "hdu_mask=fits.open('/Users/giadapignataro/Desktop/aplpy/bridge/mosaic.fits')[0]\n",
    "hdu_mask.data=data_in_mask_inj\n",
    "hdu_mask.writeto('mask_R.fits', overwrite=True)"
   ]
  },
  {
   "cell_type": "code",
   "execution_count": 32,
   "id": "4e9d31cf",
   "metadata": {},
   "outputs": [
    {
     "name": "stdout",
     "output_type": "stream",
     "text": [
      "[[0.   2.5  2.5  2.5  2.5 ]\n",
      " [0.   2.75 2.75 2.75 2.75]\n",
      " [0.   0.   0.   3.   3.  ]\n",
      " [0.   0.   0.   0.   0.  ]\n",
      " [0.   0.   0.   0.   0.  ]\n",
      " [0.   0.   0.   0.   0.  ]\n",
      " [0.   0.   0.   0.   0.  ]]\n"
     ]
    }
   ],
   "source": [
    "import numpy as np\n",
    "\n",
    "alpha_min_values = np.arange(0, 1.25, 0.25)\n",
    "alpha_max_values = np.arange(2.5, 4.25, 0.25)\n",
    "\n",
    "alpha_lim = {\n",
    "    0: [1.8, 1.85, 1.9, 2, 2.1, 2.2, 2.25],\n",
    "    0.25: [1.8, 2, 2.1, 2.25, 2.3, 2.5, 2.75],\n",
    "    0.5: [2, 2.25, 2.3, 2.5, 2.7, 2.75, 2.8],\n",
    "    0.75: [2.2, 2.3, 2.5, 2.6, 2.75, 3, 3.1],\n",
    "    1: [2.25, 2.5, 2.6, 2.75, 3, 3.2, 3.35]\n",
    "}\n",
    "\n",
    "matrix = np.zeros((len(alpha_max_values), len(alpha_min_values)))\n",
    "\n",
    "# Fill the matrix with alpha_lim values\n",
    "for i, alpha_max in enumerate(alpha_max_values):\n",
    "    for j, alpha_min in enumerate(alpha_min_values):\n",
    "        if alpha_min in alpha_lim and alpha_max in alpha_lim[alpha_min]:\n",
    "            matrix[i, j] = alpha_lim[alpha_min][alpha_lim[alpha_min].index(alpha_max)]\n",
    "\n",
    "print(matrix)"
   ]
  },
  {
   "cell_type": "code",
   "execution_count": 4,
   "id": "97086aea",
   "metadata": {},
   "outputs": [
    {
     "name": "stdout",
     "output_type": "stream",
     "text": [
      "[[1.8  1.87 2.   2.1  2.2 ]\n",
      " [1.85 2.   2.2  2.3  2.45]\n",
      " [1.9  2.1  2.3  2.5  2.6 ]\n",
      " [2.1  2.25 2.5  2.6  2.75]\n",
      " [2.2  2.35 2.7  2.8  3.  ]\n",
      " [2.25 2.5  2.75 3.   3.2 ]\n",
      " [2.3  2.6  2.8  3.15 3.35]]\n",
      "[[0.   0.   0.   0.   0.  ]\n",
      " [0.05 0.13 0.2  0.2  0.25]\n",
      " [0.05 0.1  0.1  0.2  0.15]\n",
      " [0.2  0.15 0.2  0.1  0.15]\n",
      " [0.1  0.1  0.2  0.2  0.25]\n",
      " [0.05 0.15 0.05 0.2  0.2 ]\n",
      " [0.05 0.1  0.05 0.15 0.15]]\n"
     ]
    }
   ],
   "source": [
    "import numpy as np\n",
    "\n",
    "N = 5  # Number of columns\n",
    "M = 7  # Number of rows\n",
    "\n",
    "column_values = {\n",
    "    0: [1.8, 1.85, 1.9, 2.1, 2.2, 2.25, 2.3],\n",
    "    1: [1.87, 2, 2.1, 2.25, 2.35, 2.5, 2.6],\n",
    "    2: [2, 2.2, 2.3, 2.5, 2.7, 2.75, 2.8],\n",
    "    3: [2.1, 2.3, 2.5, 2.6, 2.8, 3, 3.15],\n",
    "    4: [2.2, 2.45, 2.6, 2.75, 3, 3.2, 3.35]\n",
    "}\n",
    "\n",
    "diff_values = {\n",
    "    0: [0, 0.05, 0.05, 0.2, 0.1, 0.05, 0.05],\n",
    "    1: [0, 0.13, 0.1, 0.15, 0.1, 0.15, 0.1],\n",
    "    2: [0, 0.2, 0.1, 0.2, 0.2, 0.05, 0.05],\n",
    "    3: [0, 0.2, 0.2, 0.1, 0.2, 0.2, 0.15],\n",
    "    4: [0, 0.25, 0.15, 0.15, 0.25, 0.2, 0.15]\n",
    "}\n",
    "\n",
    "matrix = np.zeros((M, N))\n",
    "diff_matrix = np.zeros((M, N))\n",
    "\n",
    "for col in range(N):\n",
    "    matrix[:, col] = column_values[col]\n",
    "    diff_matrix[:, col] = diff_values[col]\n",
    "\n",
    "\n",
    "print(matrix)\n",
    "print(diff_matrix)\n"
   ]
  },
  {
   "cell_type": "markdown",
   "id": "6c7d9c79",
   "metadata": {},
   "source": [
    "## Step 5: Flux Density Ratio Calculation\n"
   ]
  },
  {
   "cell_type": "code",
   "execution_count": 12,
   "id": "07b8bf99",
   "metadata": {},
   "outputs": [
    {
     "data": {
      "image/png": "[encoded data removed]",
      "text/plain": [
       "<Figure size 576x576 with 2 Axes>"
      ]
     },
     "metadata": {
      "needs_background": "light"
     },
     "output_type": "display_data"
    }
   ],
   "source": [
    "fig, ax = plt.subplots(figsize=(8,8))\n",
    "im = ax.imshow(matrix, cmap='magma_r', origin='lower')\n",
    "\n",
    "cbar = ax.figure.colorbar(im, ax=ax, label=r'$\\alpha$ limit 95%')\n",
    "\n",
    "# Set the tick labels\n",
    "alpha_min_ticks = np.arange(N)\n",
    "alpha_max_ticks = np.arange(M)\n",
    "\n",
    "alpha_min_values = [0.0, 0.25, 0.5, 0.75, 1.0]\n",
    "alpha_max_values = [2.5, 2.75, 3.0, 3.25, 3.5, 3.75, 4.0]\n",
    "\n",
    "ax.set_xticks(alpha_min_ticks)\n",
    "ax.set_yticks(alpha_max_ticks)\n",
    "ax.set_xticklabels(alpha_min_values)\n",
    "ax.set_yticklabels(alpha_max_values)\n",
    "\n",
    "# Add labels to the x and y axes\n",
    "ax.set_xlabel(r'$\\alpha_{\\min}$', size='x-large')\n",
    "ax.set_ylabel(r'$\\alpha_{\\max}$', size='x-large')\n",
    "\n",
    "plt.savefig('/Users/giadapignataro/Desktop/paper_bridge/alpharanges.png', facecolor='white')\n",
    "\n",
    "plt.show()\n"
   ]
  },
  {
   "cell_type": "code",
   "execution_count": 43,
   "id": "87359acf",
   "metadata": {},
   "outputs": [],
   "source": [
    "A_0=[18436, 18706, 18977, 19186, 19336, 19483, 19610, 19747, 19858]\n",
    "A_025=[13329, 13600, 13870, 14079, 14229, 14377, 14503, 14641, 14756]\n",
    "A_05=[9359, 9630, 9900, 10109, 10259, 10406, 10533, 10670, 10781]\n",
    "A_075=[6208, 6479, 6749, 6958, 7108, 7256, 7382, 7520, 7631]\n",
    "A_1=[3782, 4053, 4323, 4532, 4682, 4829, 4956, 5093, 5204]\n",
    "\n",
    "A=[A_0, A_025, A_05, A_075, A_1]\n"
   ]
  },
  {
   "cell_type": "code",
   "execution_count": 44,
   "id": "ac2d3203",
   "metadata": {},
   "outputs": [
    {
     "name": "stdout",
     "output_type": "stream",
     "text": [
      "[0, 1.46, 1.45, 1.1, 0.78, 0.76, 0.65, 0.7, 0.56]\n",
      "[0, 2.03, 1.99, 1.51, 1.07, 1.04, 0.88, 0.95, 0.79]\n",
      "[0, 2.9, 2.8, 2.11, 1.48, 1.43, 1.22, 1.3, 1.04]\n",
      "[0, 4.37, 4.17, 3.1, 2.16, 2.08, 1.74, 1.87, 1.48]\n",
      "[0, 7.17, 6.66, 4.83, 3.31, 3.14, 2.63, 2.76, 2.18]\n"
     ]
    }
   ],
   "source": [
    "#percentage_diff = [0]  # Initialize the first percentage difference as 0\n",
    "import numpy as np\n",
    "for a in A:\n",
    "    percentage_diff = [0]\n",
    "    for i in range(1, len(a)):\n",
    "        diff = a[i] - a[i-1]\n",
    "        percentage = (diff / a[i-1]) * 100\n",
    "        percentage_diff.append(np.round(percentage,2))\n",
    "\n",
    "    print(percentage_diff)"
   ]
  },
  {
   "cell_type": "code",
   "execution_count": 65,
   "id": "42addf7e",
   "metadata": {},
   "outputs": [],
   "source": [
    "a_0=[1.75, 1.85, 1.9, 2, 2.1, 2.2, 2.25]\n",
    "a_025=[1.87, 2, 2.1, 2.25, 2.35, 2.5, 2.6]\n",
    "a_05=[2, 2.2, 2.3, 2.5, 2.7, 2.75, 2.8]\n",
    "a_075=[2.1, 2.3, 2.5, 2.65, 2.75, 3, 3.1]\n",
    "a_1=[2.2, 2.45, 2.6, 2.75, 3, 3.2, 3.35]\n",
    "\n",
    "al=[a_0, a_025, a_05, a_075, a_1]"
   ]
  },
  {
   "cell_type": "code",
   "execution_count": 66,
   "id": "22f0f5b9",
   "metadata": {},
   "outputs": [
    {
     "name": "stdout",
     "output_type": "stream",
     "text": [
      "[0, 5.71, 2.7, 5.26, 5.0, 4.76, 2.27]\n",
      "[0, 6.95, 5.0, 7.14, 4.44, 6.38, 4.0]\n",
      "[0, 10.0, 4.55, 8.7, 8.0, 1.85, 1.82]\n",
      "[0, 9.52, 8.7, 6.0, 3.77, 9.09, 3.33]\n",
      "[0, 11.36, 6.12, 5.77, 9.09, 6.67, 4.69]\n"
     ]
    }
   ],
   "source": [
    "#percentage_diff = [0]  # Initialize the first percentage difference as 0\n",
    "import numpy as np\n",
    "for a in al:\n",
    "    percentage_diff = [0]\n",
    "    for i in range(1, len(a)):\n",
    "        diff = a[i] - a[i-1]\n",
    "        percentage = (diff / a[i-1]) * 100\n",
    "        percentage_diff.append(np.round(percentage,2))\n",
    "\n",
    "    print(percentage_diff)"
   ]
  },
  {
   "cell_type": "code",
   "execution_count": 4,
   "id": "2aa008e0",
   "metadata": {},
   "outputs": [
    {
     "name": "stdout",
     "output_type": "stream",
     "text": [
      "[[1.46 2.03 2.9  4.37 7.17]\n",
      " [1.45 1.99 2.8  4.17 6.66]\n",
      " [1.1  1.51 2.11 3.1  4.83]\n",
      " [0.78 1.07 1.48 2.16 3.31]\n",
      " [0.76 1.04 1.43 2.08 3.14]\n",
      " [0.65 0.88 1.22 1.74 2.63]\n",
      " [0.64 0.87 1.2  1.72 2.6 ]\n",
      " [0.56 0.79 1.04 1.48 2.18]]\n"
     ]
    }
   ],
   "source": [
    "import numpy as np\n",
    "\n",
    "N = 5  # Number of columns\n",
    "M =  8 # Number of rows\n",
    "\n",
    "column_values = {\n",
    "    0: [1.46, 1.45, 1.1, 0.78, 0.76, 0.65, 0.64, 0.56],\n",
    "    1: [2.03, 1.99, 1.51, 1.07, 1.04, 0.88, 0.87, 0.79],\n",
    "    2: [2.9, 2.8, 2.11, 1.48, 1.43, 1.22, 1.2, 1.04],\n",
    "    3: [4.37, 4.17, 3.1, 2.16, 2.08, 1.74, 1.72, 1.48],\n",
    "    4: [7.17, 6.66, 4.83, 3.31, 3.14, 2.63, 2.6, 2.18]\n",
    "}\n",
    "\n",
    "matrix = np.zeros((M, N))\n",
    "\n",
    "for col in range(N):\n",
    "    matrix[:, col] = column_values[col]\n",
    "\n",
    "print(matrix)"
   ]
  },
  {
   "cell_type": "code",
   "execution_count": 7,
   "id": "d6ba15e9",
   "metadata": {},
   "outputs": [
    {
     "data": {
      "image/png": "[encoded data removed]",
      "text/plain": [
       "<Figure size 576x576 with 2 Axes>"
      ]
     },
     "metadata": {
      "needs_background": "light"
     },
     "output_type": "display_data"
    }
   ],
   "source": [
    "fig, ax = plt.subplots(figsize=(8,8))\n",
    "im = ax.imshow(matrix, cmap='magma_r', origin='lower')\n",
    "\n",
    "cbar = ax.figure.colorbar(im, ax=ax, label=r'$\\epsilon$ [%]')\n",
    "\n",
    "# Set the tick labels\n",
    "alpha_min_ticks = np.arange(N)\n",
    "alpha_max_ticks = np.arange(M)\n",
    "\n",
    "alpha_min_values = [0.0, 0.25, 0.5, 0.75, 1.0]\n",
    "alpha_max_values = [2.25, 2.5, 2.75, 3.0, 3.25, 3.5, 3.75, 4.0]\n",
    "\n",
    "ax.set_xticks(alpha_min_ticks)\n",
    "ax.set_yticks(alpha_max_ticks)\n",
    "ax.set_xticklabels(alpha_min_values)\n",
    "ax.set_yticklabels(alpha_max_values)\n",
    "\n",
    "# Add labels to the x and y axes\n",
    "ax.set_xlabel(r'$\\alpha_{\\min}$', size='x-large')\n",
    "ax.set_ylabel(r'$\\alpha_{\\max}$', size='x-large')\n",
    "\n",
    "plt.savefig('/Users/giadapignataro/Desktop/paper_bridge/aconvergence.png', facecolor='white')\n",
    "\n",
    "plt.show()\n"
   ]
  },
  {
   "cell_type": "markdown",
   "id": "db5b3d82",
   "metadata": {},
   "source": [
    "## Conclusion\n",
    "\n",
    "In this notebook, we simulated the **injection of visibilities** into radio observations  \n",
    "to study the properties of a **radio bridge structure**.  \n",
    "\n",
    "Key outcomes:\n",
    "- Successfully handled and manipulated FITS data\n",
    "- Generated mosaicked images with varying spectral indices\n",
    "- Applied masks to isolate and analyze bridge emission\n",
    "- Computed flux density ratios to quantify the effect of injected visibilities\n",
    "\n",
    "This project demonstrates practical skills in **scientific Python programming**, including data manipulation, astrophysical modeling, and reproducible workflows.  \n"
   ]
  }
 ],
 "metadata": {
  "kernelspec": {
   "display_name": "Python 3 (ipykernel)",
   "language": "python",
   "name": "python3"
  },
  "language_info": {
   "codemirror_mode": {
    "name": "ipython",
    "version": 3
   },
   "file_extension": ".py",
   "mimetype": "text/x-python",
   "name": "python",
   "nbconvert_exporter": "python",
   "pygments_lexer": "ipython3",
   "version": "3.11.5"
  }
 },
 "nbformat": 4,
 "nbformat_minor": 5
}
